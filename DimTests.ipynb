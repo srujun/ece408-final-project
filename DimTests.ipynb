{
 "cells": [
  {
   "cell_type": "code",
   "execution_count": 1,
   "metadata": {},
   "outputs": [],
   "source": [
    "import numpy as np"
   ]
  },
  {
   "cell_type": "code",
   "execution_count": 2,
   "metadata": {},
   "outputs": [],
   "source": [
    "fmaps = 2\n",
    "channels = 3\n",
    "k_y = 2\n",
    "k_x = 2\n",
    "\n",
    "H_in = 3\n",
    "W_in = 3\n",
    "H_out = H_in - k_y + 1\n",
    "W_out = W_in - k_x + 1\n",
    "\n",
    "H_xu = channels*k_y*k_x\n",
    "W_xu = H_out*W_out"
   ]
  },
  {
   "cell_type": "markdown",
   "metadata": {},
   "source": [
    "## Set up weights"
   ]
  },
  {
   "cell_type": "code",
   "execution_count": 3,
   "metadata": {},
   "outputs": [],
   "source": [
    "w1 = [\n",
    "    [[1,1],[2,2]],\n",
    "    [[1,1],[1,1]],\n",
    "    [[0,1],[1,0]]\n",
    "]\n",
    "w2 = [\n",
    "    [[1,0],[0,1]],\n",
    "    [[2,1],[2,1]],\n",
    "    [[1,2],[2,0]]\n",
    "]"
   ]
  },
  {
   "cell_type": "code",
   "execution_count": 4,
   "metadata": {},
   "outputs": [
    {
     "name": "stdout",
     "output_type": "stream",
     "text": [
      "(2, 3, 2, 2)\n"
     ]
    }
   ],
   "source": [
    "w = np.array([w1, w2])\n",
    "print(w.shape)\n",
    "assert w.shape == (fmaps, channels, k_y, k_x)"
   ]
  },
  {
   "cell_type": "code",
   "execution_count": 5,
   "metadata": {},
   "outputs": [],
   "source": [
    "w_re = w.reshape((fmaps, channels * k_y * k_x))"
   ]
  },
  {
   "cell_type": "markdown",
   "metadata": {},
   "source": [
    "## Set up X"
   ]
  },
  {
   "cell_type": "code",
   "execution_count": 6,
   "metadata": {},
   "outputs": [],
   "source": [
    "x_arr = [\n",
    "    [[1,2,0],[1,1,3],[0,2,2]],\n",
    "    [[0,2,1],[0,3,2],[1,1,0]],\n",
    "    [[1,2,1],[0,1,3],[3,3,2]]\n",
    "]"
   ]
  },
  {
   "cell_type": "code",
   "execution_count": 7,
   "metadata": {},
   "outputs": [
    {
     "name": "stdout",
     "output_type": "stream",
     "text": [
      "(3, 3, 3)\n"
     ]
    }
   ],
   "source": [
    "x = np.array(x_arr)\n",
    "print(x.shape)\n",
    "assert x.shape == (channels, H_in, W_in)"
   ]
  },
  {
   "cell_type": "markdown",
   "metadata": {},
   "source": [
    "## Set up x_unrolled"
   ]
  },
  {
   "cell_type": "code",
   "execution_count": 8,
   "metadata": {},
   "outputs": [
    {
     "name": "stdout",
     "output_type": "stream",
     "text": [
      "(12, 4)\n"
     ]
    }
   ],
   "source": [
    "x_unr = np.empty([H_xu, W_xu])\n",
    "print(x_unr.shape)"
   ]
  },
  {
   "cell_type": "code",
   "execution_count": 9,
   "metadata": {},
   "outputs": [],
   "source": [
    "for tId in range(channels * H_out * W_out):\n",
    "    if tId < channels * W_xu:\n",
    "        channel = tId // W_xu\n",
    "        unroll_col = tId % W_xu\n",
    "\n",
    "        # indices in x\n",
    "        x_row = unroll_col // W_out\n",
    "        x_col = unroll_col % W_out\n",
    "\n",
    "        # indices in x_unroll\n",
    "        h_unroll = x_row * W_out + x_col\n",
    "        w_base = channel * k_y * k_x\n",
    "        \n",
    "#         print('\\ntId=%d' % tId)\n",
    "#         print('channel=%d' % channel)\n",
    "#         print('unroll_col=%d' % unroll_col)\n",
    "#         print('x_row=%d' % x_row)\n",
    "#         print('x_col=%d' % x_col)\n",
    "#         print('h_unroll=%d' % h_unroll)\n",
    "#         print('w_base=%d' % w_base)\n",
    "#         print('---')\n",
    "\n",
    "        ky = 0\n",
    "        while ky < k_y:\n",
    "            kx = 0\n",
    "            while kx < k_x:\n",
    "                w_unroll = w_base + ky * k_x + kx\n",
    "#                 print('w_unroll=%d' % w_unroll)\n",
    "                x_unr[w_unroll, h_unroll] = x[channel, x_row + ky, x_col + kx]\n",
    "                kx += 1\n",
    "            ky += 1\n",
    "\n",
    "    else:\n",
    "        print('tId=%d not valid!' % tId)"
   ]
  },
  {
   "cell_type": "code",
   "execution_count": 10,
   "metadata": {},
   "outputs": [
    {
     "name": "stdout",
     "output_type": "stream",
     "text": [
      "[[ 1.  2.  1.  1.]\n",
      " [ 2.  0.  1.  3.]\n",
      " [ 1.  1.  0.  2.]\n",
      " [ 1.  3.  2.  2.]\n",
      " [ 0.  2.  0.  3.]\n",
      " [ 2.  1.  3.  2.]\n",
      " [ 0.  3.  1.  1.]\n",
      " [ 3.  2.  1.  0.]\n",
      " [ 1.  2.  0.  1.]\n",
      " [ 2.  1.  1.  3.]\n",
      " [ 0.  1.  3.  3.]\n",
      " [ 1.  3.  3.  2.]]\n"
     ]
    }
   ],
   "source": [
    "print(x_unr)"
   ]
  },
  {
   "cell_type": "code",
   "execution_count": 11,
   "metadata": {},
   "outputs": [
    {
     "name": "stdout",
     "output_type": "stream",
     "text": [
      "[[1 1 2 2 1 1 1 1 0 1 1 0]\n",
      " [1 0 0 1 2 1 2 1 1 2 2 0]]\n"
     ]
    }
   ],
   "source": [
    "print(w_re)"
   ]
  },
  {
   "cell_type": "code",
   "execution_count": 12,
   "metadata": {},
   "outputs": [
    {
     "data": {
      "text/plain": [
       "array([[ 14.,  20.,  15.,  24.],\n",
       "       [ 12.,  24.,  17.,  26.]])"
      ]
     },
     "execution_count": 12,
     "metadata": {},
     "output_type": "execute_result"
    }
   ],
   "source": [
    "np.dot(w_re, x_unr)"
   ]
  }
 ],
 "metadata": {
  "kernelspec": {
   "display_name": "Python 3",
   "language": "python",
   "name": "python3"
  },
  "language_info": {
   "codemirror_mode": {
    "name": "ipython",
    "version": 3
   },
   "file_extension": ".py",
   "mimetype": "text/x-python",
   "name": "python",
   "nbconvert_exporter": "python",
   "pygments_lexer": "ipython3",
   "version": "3.6.2"
  }
 },
 "nbformat": 4,
 "nbformat_minor": 2
}
