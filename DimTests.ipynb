{
 "cells": [
  {
   "cell_type": "code",
   "execution_count": 1,
   "metadata": {},
   "outputs": [],
   "source": [
    "import numpy as np"
   ]
  },
  {
   "cell_type": "code",
   "execution_count": 2,
   "metadata": {},
   "outputs": [],
   "source": [
    "fmaps = 2\n",
    "channels = 3\n",
    "k_y = 2\n",
    "k_x = 2\n",
    "\n",
    "H_in = 3\n",
    "W_in = 3\n",
    "H_out = H_in - k_y + 1\n",
    "W_out = W_in - k_x + 1\n",
    "\n",
    "H_xu = channels*k_y*k_x\n",
    "W_xu = H_out*W_out"
   ]
  },
  {
   "cell_type": "markdown",
   "metadata": {},
   "source": [
    "## Set up weights"
   ]
  },
  {
   "cell_type": "code",
   "execution_count": 3,
   "metadata": {},
   "outputs": [],
   "source": [
    "w1 = [\n",
    "    [[1,1],[2,2]],\n",
    "    [[1,1],[1,1]],\n",
    "    [[0,1],[1,0]]\n",
    "]\n",
    "w2 = [\n",
    "    [[1,0],[0,1]],\n",
    "    [[2,1],[2,1]],\n",
    "    [[1,2],[2,0]]\n",
    "]"
   ]
  },
  {
   "cell_type": "code",
   "execution_count": 4,
   "metadata": {},
   "outputs": [
    {
     "name": "stdout",
     "output_type": "stream",
     "text": [
      "(2, 3, 2, 2)\n"
     ]
    }
   ],
   "source": [
    "w = np.array([w1, w2])\n",
    "print(w.shape)\n",
    "assert w.shape == (fmaps, channels, k_y, k_x)"
   ]
  },
  {
   "cell_type": "code",
   "execution_count": 5,
   "metadata": {},
   "outputs": [],
   "source": [
    "w_re = w.reshape((fmaps, channels * k_y * k_x))"
   ]
  },
  {
   "cell_type": "markdown",
   "metadata": {},
   "source": [
    "## Set up X"
   ]
  },
  {
   "cell_type": "code",
   "execution_count": 6,
   "metadata": {},
   "outputs": [],
   "source": [
    "x_arr = [\n",
    "    [[1,2,0],[1,1,3],[0,2,2]],\n",
    "    [[0,2,1],[0,3,2],[1,1,0]],\n",
    "    [[1,2,1],[0,1,3],[3,3,2]]\n",
    "]"
   ]
  },
  {
   "cell_type": "code",
   "execution_count": 7,
   "metadata": {},
   "outputs": [
    {
     "name": "stdout",
     "output_type": "stream",
     "text": [
      "(3, 3, 3)\n"
     ]
    }
   ],
   "source": [
    "x = np.array(x_arr)\n",
    "print(x.shape)\n",
    "assert x.shape == (channels, H_in, W_in)"
   ]
  },
  {
   "cell_type": "markdown",
   "metadata": {},
   "source": [
    "## Set up x_unrolled"
   ]
  },
  {
   "cell_type": "code",
   "execution_count": 8,
   "metadata": {},
   "outputs": [
    {
     "name": "stdout",
     "output_type": "stream",
     "text": [
      "(12, 4)\n"
     ]
    }
   ],
   "source": [
    "x_unr = np.empty([H_xu, W_xu])\n",
    "print(x_unr.shape)"
   ]
  },
  {
   "cell_type": "code",
   "execution_count": 9,
   "metadata": {},
   "outputs": [
    {
     "name": "stdout",
     "output_type": "stream",
     "text": [
      "w_unroll=0\n",
      "w_unroll=1\n",
      "w_unroll=2\n",
      "w_unroll=3\n",
      "w_unroll=0\n",
      "w_unroll=1\n",
      "w_unroll=2\n",
      "w_unroll=3\n",
      "w_unroll=0\n",
      "w_unroll=1\n",
      "w_unroll=2\n",
      "w_unroll=3\n",
      "w_unroll=0\n",
      "w_unroll=1\n",
      "w_unroll=2\n",
      "w_unroll=3\n",
      "w_unroll=4\n",
      "w_unroll=5\n",
      "w_unroll=6\n",
      "w_unroll=7\n",
      "w_unroll=4\n",
      "w_unroll=5\n",
      "w_unroll=6\n",
      "w_unroll=7\n",
      "w_unroll=4\n",
      "w_unroll=5\n",
      "w_unroll=6\n",
      "w_unroll=7\n",
      "w_unroll=4\n",
      "w_unroll=5\n",
      "w_unroll=6\n",
      "w_unroll=7\n",
      "w_unroll=8\n",
      "w_unroll=9\n",
      "w_unroll=10\n",
      "w_unroll=11\n",
      "w_unroll=8\n",
      "w_unroll=9\n",
      "w_unroll=10\n",
      "w_unroll=11\n",
      "w_unroll=8\n",
      "w_unroll=9\n",
      "w_unroll=10\n",
      "w_unroll=11\n",
      "w_unroll=8\n",
      "w_unroll=9\n",
      "w_unroll=10\n",
      "w_unroll=11\n"
     ]
    }
   ],
   "source": [
    "for tId in range(channels * H_out * W_out):\n",
    "    if tId < channels * W_xu:\n",
    "        channel = tId // W_xu\n",
    "        unroll_col = tId % W_xu\n",
    "\n",
    "        # indices in x\n",
    "        x_row = unroll_col // W_out\n",
    "        x_col = unroll_col % W_out\n",
    "\n",
    "        # indices in x_unroll\n",
    "        h_unroll = x_row * W_out + x_col\n",
    "        w_base = channel * k_y * k_x\n",
    "        \n",
    "#         print('\\ntId=%d' % tId)\n",
    "#         print('channel=%d' % channel)\n",
    "#         print('unroll_col=%d' % unroll_col)\n",
    "#         print('x_row=%d' % x_row)\n",
    "#         print('x_col=%d' % x_col)\n",
    "#         print('h_unroll=%d' % h_unroll)\n",
    "#         print('w_base=%d' % w_base)\n",
    "#         print('---')\n",
    "\n",
    "        ky = 0\n",
    "        while ky < k_y:\n",
    "            kx = 0\n",
    "            while kx < k_x:\n",
    "                w_unroll = w_base + ky * k_x + kx\n",
    "                print('w_unroll=%d' % w_unroll)\n",
    "                x_unr[w_unroll, h_unroll] = x[channel, x_row + ky, x_col + kx]\n",
    "                kx += 1\n",
    "            ky += 1\n",
    "\n",
    "    else:\n",
    "        print('tId=%d not valid!' % tId)"
   ]
  },
  {
   "cell_type": "code",
   "execution_count": 10,
   "metadata": {},
   "outputs": [
    {
     "name": "stdout",
     "output_type": "stream",
     "text": [
      "[[ 1.  2.  1.  1.]\n",
      " [ 2.  0.  1.  3.]\n",
      " [ 1.  1.  0.  2.]\n",
      " [ 1.  3.  2.  2.]\n",
      " [ 0.  2.  0.  3.]\n",
      " [ 2.  1.  3.  2.]\n",
      " [ 0.  3.  1.  1.]\n",
      " [ 3.  2.  1.  0.]\n",
      " [ 1.  2.  0.  1.]\n",
      " [ 2.  1.  1.  3.]\n",
      " [ 0.  1.  3.  3.]\n",
      " [ 1.  3.  3.  2.]]\n"
     ]
    }
   ],
   "source": [
    "print(x_unr)"
   ]
  },
  {
   "cell_type": "code",
   "execution_count": 11,
   "metadata": {},
   "outputs": [
    {
     "name": "stdout",
     "output_type": "stream",
     "text": [
      "[[1 1 2 2 1 1 1 1 0 1 1 0]\n",
      " [1 0 0 1 2 1 2 1 1 2 2 0]]\n"
     ]
    }
   ],
   "source": [
    "print(w_re)"
   ]
  },
  {
   "cell_type": "code",
   "execution_count": 12,
   "metadata": {},
   "outputs": [
    {
     "data": {
      "text/plain": [
       "array([[ 14.,  20.,  15.,  24.],\n",
       "       [ 12.,  24.,  17.,  26.]])"
      ]
     },
     "execution_count": 12,
     "metadata": {},
     "output_type": "execute_result"
    }
   ],
   "source": [
    "np.dot(w_re, x_unr)"
   ]
  },
  {
   "cell_type": "markdown",
   "metadata": {},
   "source": [
    "## Larger unroll"
   ]
  },
  {
   "cell_type": "code",
   "execution_count": 13,
   "metadata": {},
   "outputs": [],
   "source": [
    "batches = 2"
   ]
  },
  {
   "cell_type": "code",
   "execution_count": 14,
   "metadata": {},
   "outputs": [],
   "source": [
    "x1 = [\n",
    "    [[1,2,0],[1,1,3],[0,2,2]],\n",
    "    [[0,2,1],[0,3,2],[1,1,0]],\n",
    "    [[1,2,1],[0,1,3],[3,3,2]]\n",
    "]\n",
    "x2 = [\n",
    "    [[1,2,1],[0,1,3],[3,3,2]],\n",
    "    [[1,2,0],[1,1,3],[0,2,2]],\n",
    "    [[0,2,1],[0,3,2],[1,1,0]]\n",
    "]"
   ]
  },
  {
   "cell_type": "code",
   "execution_count": 15,
   "metadata": {},
   "outputs": [
    {
     "name": "stdout",
     "output_type": "stream",
     "text": [
      "(2, 3, 3, 3)\n",
      "[[[[1 2 0]\n",
      "   [1 1 3]\n",
      "   [0 2 2]]\n",
      "\n",
      "  [[0 2 1]\n",
      "   [0 3 2]\n",
      "   [1 1 0]]\n",
      "\n",
      "  [[1 2 1]\n",
      "   [0 1 3]\n",
      "   [3 3 2]]]\n",
      "\n",
      "\n",
      " [[[1 2 1]\n",
      "   [0 1 3]\n",
      "   [3 3 2]]\n",
      "\n",
      "  [[1 2 0]\n",
      "   [1 1 3]\n",
      "   [0 2 2]]\n",
      "\n",
      "  [[0 2 1]\n",
      "   [0 3 2]\n",
      "   [1 1 0]]]]\n"
     ]
    }
   ],
   "source": [
    "bigx = np.array([x1,x2])\n",
    "print(bigx.shape)\n",
    "assert bigx.shape == (batches, channels, H_in, W_in)\n",
    "print(bigx)"
   ]
  },
  {
   "cell_type": "code",
   "execution_count": 16,
   "metadata": {},
   "outputs": [],
   "source": [
    "bigH_xu = channels*k_y*k_x\n",
    "bigW_xu = batches*H_out*W_out"
   ]
  },
  {
   "cell_type": "code",
   "execution_count": 17,
   "metadata": {},
   "outputs": [
    {
     "name": "stdout",
     "output_type": "stream",
     "text": [
      "(12, 8)\n"
     ]
    }
   ],
   "source": [
    "bigx_unr = np.empty([bigH_xu, bigW_xu])\n",
    "print(bigx_unr.shape)"
   ]
  },
  {
   "cell_type": "code",
   "execution_count": 18,
   "metadata": {},
   "outputs": [],
   "source": [
    "for batch in range(batches):\n",
    "    for tId in range(channels * H_out * W_out):\n",
    "        if tId < channels * W_xu:\n",
    "            channel = tId // W_xu\n",
    "            unroll_col = tId % W_xu\n",
    "\n",
    "            # indices in x\n",
    "            x_row = unroll_col // W_out\n",
    "            x_col = unroll_col % W_out\n",
    "\n",
    "            # indices in x_unroll\n",
    "            h_unroll = x_row * W_out + x_col\n",
    "            w_base = channel * k_y * k_x\n",
    "\n",
    "            ky = 0\n",
    "            while ky < k_y:\n",
    "                kx = 0\n",
    "                while kx < k_x:\n",
    "                    w_unroll = w_base + ky * k_x + kx\n",
    "                    bigx_unr[w_unroll, (batch * W_xu) + h_unroll] = bigx[batch, channel, x_row + ky, x_col + kx]\n",
    "                    kx += 1\n",
    "                ky += 1\n",
    "\n",
    "        else:\n",
    "            print('tId=%d not valid!' % tId)"
   ]
  },
  {
   "cell_type": "code",
   "execution_count": 19,
   "metadata": {},
   "outputs": [
    {
     "name": "stdout",
     "output_type": "stream",
     "text": [
      "[[ 1.  2.  1.  1.  1.  2.  0.  1.]\n",
      " [ 2.  0.  1.  3.  2.  1.  1.  3.]\n",
      " [ 1.  1.  0.  2.  0.  1.  3.  3.]\n",
      " [ 1.  3.  2.  2.  1.  3.  3.  2.]\n",
      " [ 0.  2.  0.  3.  1.  2.  1.  1.]\n",
      " [ 2.  1.  3.  2.  2.  0.  1.  3.]\n",
      " [ 0.  3.  1.  1.  1.  1.  0.  2.]\n",
      " [ 3.  2.  1.  0.  1.  3.  2.  2.]\n",
      " [ 1.  2.  0.  1.  0.  2.  0.  3.]\n",
      " [ 2.  1.  1.  3.  2.  1.  3.  2.]\n",
      " [ 0.  1.  3.  3.  0.  3.  1.  1.]\n",
      " [ 1.  3.  3.  2.  3.  2.  1.  0.]]\n"
     ]
    }
   ],
   "source": [
    "print(bigx_unr)"
   ]
  },
  {
   "cell_type": "code",
   "execution_count": 20,
   "metadata": {},
   "outputs": [
    {
     "data": {
      "text/plain": [
       "array([[ 14.,  20.,  15.,  24.,  12.,  21.,  21.,  25.],\n",
       "       [ 12.,  24.,  17.,  26.,  13.,  24.,  16.,  23.]])"
      ]
     },
     "execution_count": 20,
     "metadata": {},
     "output_type": "execute_result"
    }
   ],
   "source": [
    "yu = np.dot(w_re, bigx_unr)\n",
    "yu"
   ]
  },
  {
   "cell_type": "code",
   "execution_count": 21,
   "metadata": {},
   "outputs": [
    {
     "name": "stdout",
     "output_type": "stream",
     "text": [
      "(4, 4)\n"
     ]
    }
   ],
   "source": [
    "bigy = np.empty([batches * fmaps, W_xu])\n",
    "print(bigy.shape)"
   ]
  },
  {
   "cell_type": "code",
   "execution_count": 31,
   "metadata": {},
   "outputs": [
    {
     "name": "stdout",
     "output_type": "stream",
     "text": [
      "yu_row=0 yu_col=0 y_row=0 y_col=0\n",
      "yu_row=0 yu_col=0 y_row=0 y_col=0\n",
      "yu_row=0 yu_col=0 y_row=0 y_col=0\n",
      "yu_row=0 yu_col=0 y_row=0 y_col=0\n",
      "yu_row=1 yu_col=1 y_row=1 y_col=1\n",
      "yu_row=1 yu_col=1 y_row=1 y_col=1\n",
      "yu_row=1 yu_col=1 y_row=1 y_col=1\n",
      "yu_row=1 yu_col=1 y_row=1 y_col=1\n",
      "yu_row=0 yu_col=4 y_row=2 y_col=0\n",
      "yu_row=0 yu_col=4 y_row=2 y_col=0\n",
      "yu_row=0 yu_col=4 y_row=2 y_col=0\n",
      "yu_row=0 yu_col=4 y_row=2 y_col=0\n",
      "yu_row=1 yu_col=5 y_row=3 y_col=1\n",
      "yu_row=1 yu_col=5 y_row=3 y_col=1\n",
      "yu_row=1 yu_col=5 y_row=3 y_col=1\n",
      "yu_row=1 yu_col=5 y_row=3 y_col=1\n"
     ]
    }
   ],
   "source": [
    "for batch in range(batches):\n",
    "    for tId in range(fmaps * H_out * W_out):\n",
    "        if tId < fmaps * W_xu:\n",
    "            yu_row = tId // W_xu;\n",
    "            yu_col = tId // W_xu + (batch * W_xu)\n",
    "\n",
    "            y_row = yu_row + (batch * fmaps)\n",
    "            y_col = tId // W_xu\n",
    "            \n",
    "            print(f'yu_row={yu_row} yu_col={yu_col} y_row={y_row} y_col={y_col}')\n",
    "\n",
    "            bigy[y_row, y_col] = yu[yu_row, yu_col]"
   ]
  },
  {
   "cell_type": "code",
   "execution_count": 32,
   "metadata": {},
   "outputs": [
    {
     "data": {
      "text/plain": [
       "array([[ 14.,  20.,  15.,  24.],\n",
       "       [ 12.,  24.,  21.,  25.],\n",
       "       [ 12.,  24.,  17.,  26.],\n",
       "       [ 13.,  24.,  16.,  23.]])"
      ]
     },
     "execution_count": 32,
     "metadata": {},
     "output_type": "execute_result"
    }
   ],
   "source": [
    "bigy"
   ]
  }
 ],
 "metadata": {
  "kernelspec": {
   "display_name": "Python 3",
   "language": "python",
   "name": "python3"
  },
  "language_info": {
   "codemirror_mode": {
    "name": "ipython",
    "version": 3
   },
   "file_extension": ".py",
   "mimetype": "text/x-python",
   "name": "python",
   "nbconvert_exporter": "python",
   "pygments_lexer": "ipython3",
   "version": "3.6.2"
  }
 },
 "nbformat": 4,
 "nbformat_minor": 2
}
